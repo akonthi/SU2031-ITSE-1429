{
  "nbformat": 4,
  "nbformat_minor": 0,
  "metadata": {
    "colab": {
      "name": "0101-hello.ipynb",
      "provenance": [],
      "authorship_tag": "ABX9TyPrSBxKel++rNpgFTjisZVA",
      "include_colab_link": true
    },
    "kernelspec": {
      "name": "python3",
      "display_name": "Python 3"
    },
    "language_info": {
      "name": "python"
    }
  },
  "cells": [
    {
      "cell_type": "markdown",
      "metadata": {
        "id": "view-in-github",
        "colab_type": "text"
      },
      "source": [
        "<a href=\"https://colab.research.google.com/github/akonthi/SU2031-ITSE-1429/blob/main/0101_hello.ipynb\" target=\"_parent\"><img src=\"https://colab.research.google.com/assets/colab-badge.svg\" alt=\"Open In Colab\"/></a>"
      ]
    },
    {
      "cell_type": "code",
      "metadata": {
        "colab": {
          "base_uri": "https://localhost:8080/"
        },
        "id": "M05pTVFShlk2",
        "outputId": "49654713-ef23-4d1f-8a23-47e487071ce9"
      },
      "source": [
        "print('Hello, World!')\n",
        "print(\"My name is Helena and I'm coding in python!\")"
      ],
      "execution_count": 3,
      "outputs": [
        {
          "output_type": "stream",
          "text": [
            "Hello, World!\n",
            "My name is Helena and I'm coding in python!\n"
          ],
          "name": "stdout"
        }
      ]
    }
  ]
}
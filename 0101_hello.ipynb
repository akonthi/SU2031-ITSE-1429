{
  "nbformat": 4,
  "nbformat_minor": 0,
  "metadata": {
    "colab": {
      "name": "0101-hello.ipynb",
      "provenance": [],
      "authorship_tag": "ABX9TyNzQPCFhnydJ/k0JsQ6RX+9",
      "include_colab_link": true
    },
    "kernelspec": {
      "name": "python3",
      "display_name": "Python 3"
    },
    "language_info": {
      "name": "python"
    }
  },
  "cells": [
    {
      "cell_type": "markdown",
      "metadata": {
        "id": "view-in-github",
        "colab_type": "text"
      },
      "source": [
        "<a href=\"https://colab.research.google.com/github/akonthi/SU2031-ITSE-1429/blob/main/0101_hello.ipynb\" target=\"_parent\"><img src=\"https://colab.research.google.com/assets/colab-badge.svg\" alt=\"Open In Colab\"/></a>"
      ]
    },
    {
      "cell_type": "code",
      "metadata": {
        "colab": {
          "base_uri": "https://localhost:8080/"
        },
        "id": "M05pTVFShlk2",
        "outputId": "21ce0a44-0b41-480e-ef8f-546aa7119085"
      },
      "source": [
        "print('Hello, World!')\n",
        "print(\"My name is Helena and I'm coding in python!\")\n",
        "print(\"I will continue to code...\")"
      ],
      "execution_count": 4,
      "outputs": [
        {
          "output_type": "stream",
          "text": [
            "Hello, World!\n",
            "My name is Helena and I'm coding in python!\n",
            "I will continue to code...\n"
          ],
          "name": "stdout"
        }
      ]
    }
  ]
}
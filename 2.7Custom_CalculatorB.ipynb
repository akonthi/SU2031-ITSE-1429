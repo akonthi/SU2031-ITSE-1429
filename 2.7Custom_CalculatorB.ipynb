{
  "nbformat": 4,
  "nbformat_minor": 0,
  "metadata": {
    "colab": {
      "name": "Untitled0.ipynb",
      "provenance": [],
      "authorship_tag": "ABX9TyMXEDnDWtBd2iW21dkXVaqT",
      "include_colab_link": true
    },
    "kernelspec": {
      "name": "python3",
      "display_name": "Python 3"
    },
    "language_info": {
      "name": "python"
    }
  },
  "cells": [
    {
      "cell_type": "markdown",
      "metadata": {
        "id": "view-in-github",
        "colab_type": "text"
      },
      "source": [
        "<a href=\"https://colab.research.google.com/github/akonthi/SU2031-ITSE-1429/blob/main/2.7Custom_CalculatorB.ipynb\" target=\"_parent\"><img src=\"https://colab.research.google.com/assets/colab-badge.svg\" alt=\"Open In Colab\"/></a>"
      ]
    },
    {
      "cell_type": "code",
      "metadata": {
        "colab": {
          "base_uri": "https://localhost:8080/"
        },
        "id": "kheGRNLrCtxJ",
        "outputId": "5a7c27c6-e4e9-41a4-b074-7081a4bd9ea1"
      },
      "source": [
        "\"\"\"\n",
        "2.7Custom_CalculatorB\n",
        "Helena Akot\n",
        "2021 SUM itse1429\n",
        "Prof F. Rodriguez\n",
        "June 27, 2021\n",
        "\"\"\"\n",
        "\n",
        "Base_1 = 4\n",
        "Base_2 = 6\n",
        "Height = 9\n",
        "Area = ((Base_1 + Base_2)/2) * Height\n",
        "print(\"Area is:\", Area)"
      ],
      "execution_count": 4,
      "outputs": [
        {
          "output_type": "stream",
          "text": [
            "Area is: 45.0\n"
          ],
          "name": "stdout"
        }
      ]
    }
  ]
}
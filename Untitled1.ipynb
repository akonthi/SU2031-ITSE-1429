{
  "nbformat": 4,
  "nbformat_minor": 0,
  "metadata": {
    "colab": {
      "name": "Untitled1.ipynb",
      "provenance": [],
      "authorship_tag": "ABX9TyOzGcvFqNJqSEQkpIFWH3SX",
      "include_colab_link": true
    },
    "kernelspec": {
      "name": "python3",
      "display_name": "Python 3"
    },
    "language_info": {
      "name": "python"
    }
  },
  "cells": [
    {
      "cell_type": "markdown",
      "metadata": {
        "id": "view-in-github",
        "colab_type": "text"
      },
      "source": [
        "<a href=\"https://colab.research.google.com/github/akonthi/SU2031-ITSE-1429/blob/main/Untitled1.ipynb\" target=\"_parent\"><img src=\"https://colab.research.google.com/assets/colab-badge.svg\" alt=\"Open In Colab\"/></a>"
      ]
    },
    {
      "cell_type": "code",
      "metadata": {
        "colab": {
          "base_uri": "https://localhost:8080/"
        },
        "id": "xTVwG8sdryiG",
        "outputId": "b7fbfab2-91f2-403a-de3b-02aca5b3d01c"
      },
      "source": [
        "#Custom_Cal2.9\n",
        "#Helena Akot\n",
        "#Summer_ITSE1429\n",
        "#Prof. Francisco\n",
        "#June 28 2021\n",
        "\n",
        "#Parallel sides of Trapezoid:\n",
        "Base_1 = float(input(\"Enter the First Base of a Trapezoid: \"))\n",
        "Base_2 = float(input(\"Enter the Second Base of a Trapezoid: \"))\n",
        "#Distance between the two parallels \n",
        "Height_of_Trapezoid = float(input(\"Enter the Height of the Trapezoid\"))\n",
        "\n",
        "#Calculate the area of the trapezoid\n",
        "area = 0.5 * (Base_1 + Base_2) * Height_of_Trapezoid\n",
        "\n",
        "print(\"The area of a Trapezoid \", area)"
      ],
      "execution_count": 2,
      "outputs": [
        {
          "output_type": "stream",
          "text": [
            "Enter the First Base of a Trapezoid: 5\n",
            "Enter the Second Base of a Trapezoid: 7\n",
            "Enter the Height of the Trapezoid9\n",
            "The area of a Trapezoid  54.0\n"
          ],
          "name": "stdout"
        }
      ]
    }
  ]
}